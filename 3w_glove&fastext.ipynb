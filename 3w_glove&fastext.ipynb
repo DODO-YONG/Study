{
  "nbformat": 4,
  "nbformat_minor": 0,
  "metadata": {
    "colab": {
      "name": "3w_glove&fastext.ipynb",
      "provenance": [],
      "authorship_tag": "ABX9TyPs7ev0WIEBkuyIiEPi8q0+",
      "include_colab_link": true
    },
    "kernelspec": {
      "name": "python3",
      "display_name": "Python 3"
    },
    "language_info": {
      "name": "python"
    },
    "accelerator": "GPU"
  },
  "cells": [
    {
      "cell_type": "markdown",
      "metadata": {
        "id": "view-in-github",
        "colab_type": "text"
      },
      "source": [
        "<a href=\"https://colab.research.google.com/github/DODO-YONG/Study/blob/main/3w_glove%26fastext.ipynb\" target=\"_parent\"><img src=\"https://colab.research.google.com/assets/colab-badge.svg\" alt=\"Open In Colab\"/></a>"
      ]
    },
    {
      "cell_type": "code",
      "execution_count": 1,
      "metadata": {
        "colab": {
          "base_uri": "https://localhost:8080/"
        },
        "id": "QJzH6p7p2Zdc",
        "outputId": "898cd1fb-ebe2-4921-a7f0-a2328ddc15ba"
      },
      "outputs": [
        {
          "output_type": "stream",
          "name": "stdout",
          "text": [
            "Collecting glove_python_binary\n",
            "  Downloading glove_python_binary-0.2.0-cp37-cp37m-manylinux1_x86_64.whl (948 kB)\n",
            "\u001b[?25l\r\u001b[K     |▍                               | 10 kB 30.9 MB/s eta 0:00:01\r\u001b[K     |▊                               | 20 kB 19.7 MB/s eta 0:00:01\r\u001b[K     |█                               | 30 kB 16.0 MB/s eta 0:00:01\r\u001b[K     |█▍                              | 40 kB 15.0 MB/s eta 0:00:01\r\u001b[K     |█▊                              | 51 kB 7.1 MB/s eta 0:00:01\r\u001b[K     |██                              | 61 kB 8.3 MB/s eta 0:00:01\r\u001b[K     |██▍                             | 71 kB 9.0 MB/s eta 0:00:01\r\u001b[K     |██▊                             | 81 kB 9.1 MB/s eta 0:00:01\r\u001b[K     |███                             | 92 kB 10.0 MB/s eta 0:00:01\r\u001b[K     |███▌                            | 102 kB 8.3 MB/s eta 0:00:01\r\u001b[K     |███▉                            | 112 kB 8.3 MB/s eta 0:00:01\r\u001b[K     |████▏                           | 122 kB 8.3 MB/s eta 0:00:01\r\u001b[K     |████▌                           | 133 kB 8.3 MB/s eta 0:00:01\r\u001b[K     |████▉                           | 143 kB 8.3 MB/s eta 0:00:01\r\u001b[K     |█████▏                          | 153 kB 8.3 MB/s eta 0:00:01\r\u001b[K     |█████▌                          | 163 kB 8.3 MB/s eta 0:00:01\r\u001b[K     |█████▉                          | 174 kB 8.3 MB/s eta 0:00:01\r\u001b[K     |██████▏                         | 184 kB 8.3 MB/s eta 0:00:01\r\u001b[K     |██████▋                         | 194 kB 8.3 MB/s eta 0:00:01\r\u001b[K     |███████                         | 204 kB 8.3 MB/s eta 0:00:01\r\u001b[K     |███████▎                        | 215 kB 8.3 MB/s eta 0:00:01\r\u001b[K     |███████▋                        | 225 kB 8.3 MB/s eta 0:00:01\r\u001b[K     |████████                        | 235 kB 8.3 MB/s eta 0:00:01\r\u001b[K     |████████▎                       | 245 kB 8.3 MB/s eta 0:00:01\r\u001b[K     |████████▋                       | 256 kB 8.3 MB/s eta 0:00:01\r\u001b[K     |█████████                       | 266 kB 8.3 MB/s eta 0:00:01\r\u001b[K     |█████████▎                      | 276 kB 8.3 MB/s eta 0:00:01\r\u001b[K     |█████████▊                      | 286 kB 8.3 MB/s eta 0:00:01\r\u001b[K     |██████████                      | 296 kB 8.3 MB/s eta 0:00:01\r\u001b[K     |██████████▍                     | 307 kB 8.3 MB/s eta 0:00:01\r\u001b[K     |██████████▊                     | 317 kB 8.3 MB/s eta 0:00:01\r\u001b[K     |███████████                     | 327 kB 8.3 MB/s eta 0:00:01\r\u001b[K     |███████████▍                    | 337 kB 8.3 MB/s eta 0:00:01\r\u001b[K     |███████████▊                    | 348 kB 8.3 MB/s eta 0:00:01\r\u001b[K     |████████████                    | 358 kB 8.3 MB/s eta 0:00:01\r\u001b[K     |████████████▍                   | 368 kB 8.3 MB/s eta 0:00:01\r\u001b[K     |████████████▊                   | 378 kB 8.3 MB/s eta 0:00:01\r\u001b[K     |█████████████▏                  | 389 kB 8.3 MB/s eta 0:00:01\r\u001b[K     |█████████████▌                  | 399 kB 8.3 MB/s eta 0:00:01\r\u001b[K     |█████████████▉                  | 409 kB 8.3 MB/s eta 0:00:01\r\u001b[K     |██████████████▏                 | 419 kB 8.3 MB/s eta 0:00:01\r\u001b[K     |██████████████▌                 | 430 kB 8.3 MB/s eta 0:00:01\r\u001b[K     |██████████████▉                 | 440 kB 8.3 MB/s eta 0:00:01\r\u001b[K     |███████████████▏                | 450 kB 8.3 MB/s eta 0:00:01\r\u001b[K     |███████████████▌                | 460 kB 8.3 MB/s eta 0:00:01\r\u001b[K     |███████████████▉                | 471 kB 8.3 MB/s eta 0:00:01\r\u001b[K     |████████████████▎               | 481 kB 8.3 MB/s eta 0:00:01\r\u001b[K     |████████████████▋               | 491 kB 8.3 MB/s eta 0:00:01\r\u001b[K     |█████████████████               | 501 kB 8.3 MB/s eta 0:00:01\r\u001b[K     |█████████████████▎              | 512 kB 8.3 MB/s eta 0:00:01\r\u001b[K     |█████████████████▋              | 522 kB 8.3 MB/s eta 0:00:01\r\u001b[K     |██████████████████              | 532 kB 8.3 MB/s eta 0:00:01\r\u001b[K     |██████████████████▎             | 542 kB 8.3 MB/s eta 0:00:01\r\u001b[K     |██████████████████▋             | 552 kB 8.3 MB/s eta 0:00:01\r\u001b[K     |███████████████████             | 563 kB 8.3 MB/s eta 0:00:01\r\u001b[K     |███████████████████▍            | 573 kB 8.3 MB/s eta 0:00:01\r\u001b[K     |███████████████████▊            | 583 kB 8.3 MB/s eta 0:00:01\r\u001b[K     |████████████████████            | 593 kB 8.3 MB/s eta 0:00:01\r\u001b[K     |████████████████████▍           | 604 kB 8.3 MB/s eta 0:00:01\r\u001b[K     |████████████████████▊           | 614 kB 8.3 MB/s eta 0:00:01\r\u001b[K     |█████████████████████           | 624 kB 8.3 MB/s eta 0:00:01\r\u001b[K     |█████████████████████▍          | 634 kB 8.3 MB/s eta 0:00:01\r\u001b[K     |█████████████████████▊          | 645 kB 8.3 MB/s eta 0:00:01\r\u001b[K     |██████████████████████          | 655 kB 8.3 MB/s eta 0:00:01\r\u001b[K     |██████████████████████▌         | 665 kB 8.3 MB/s eta 0:00:01\r\u001b[K     |██████████████████████▉         | 675 kB 8.3 MB/s eta 0:00:01\r\u001b[K     |███████████████████████▏        | 686 kB 8.3 MB/s eta 0:00:01\r\u001b[K     |███████████████████████▌        | 696 kB 8.3 MB/s eta 0:00:01\r\u001b[K     |███████████████████████▉        | 706 kB 8.3 MB/s eta 0:00:01\r\u001b[K     |████████████████████████▏       | 716 kB 8.3 MB/s eta 0:00:01\r\u001b[K     |████████████████████████▌       | 727 kB 8.3 MB/s eta 0:00:01\r\u001b[K     |████████████████████████▉       | 737 kB 8.3 MB/s eta 0:00:01\r\u001b[K     |█████████████████████████▏      | 747 kB 8.3 MB/s eta 0:00:01\r\u001b[K     |█████████████████████████▌      | 757 kB 8.3 MB/s eta 0:00:01\r\u001b[K     |██████████████████████████      | 768 kB 8.3 MB/s eta 0:00:01\r\u001b[K     |██████████████████████████▎     | 778 kB 8.3 MB/s eta 0:00:01\r\u001b[K     |██████████████████████████▋     | 788 kB 8.3 MB/s eta 0:00:01\r\u001b[K     |███████████████████████████     | 798 kB 8.3 MB/s eta 0:00:01\r\u001b[K     |███████████████████████████▎    | 808 kB 8.3 MB/s eta 0:00:01\r\u001b[K     |███████████████████████████▋    | 819 kB 8.3 MB/s eta 0:00:01\r\u001b[K     |████████████████████████████    | 829 kB 8.3 MB/s eta 0:00:01\r\u001b[K     |████████████████████████████▎   | 839 kB 8.3 MB/s eta 0:00:01\r\u001b[K     |████████████████████████████▋   | 849 kB 8.3 MB/s eta 0:00:01\r\u001b[K     |█████████████████████████████   | 860 kB 8.3 MB/s eta 0:00:01\r\u001b[K     |█████████████████████████████▍  | 870 kB 8.3 MB/s eta 0:00:01\r\u001b[K     |█████████████████████████████▊  | 880 kB 8.3 MB/s eta 0:00:01\r\u001b[K     |██████████████████████████████  | 890 kB 8.3 MB/s eta 0:00:01\r\u001b[K     |██████████████████████████████▍ | 901 kB 8.3 MB/s eta 0:00:01\r\u001b[K     |██████████████████████████████▊ | 911 kB 8.3 MB/s eta 0:00:01\r\u001b[K     |███████████████████████████████ | 921 kB 8.3 MB/s eta 0:00:01\r\u001b[K     |███████████████████████████████▍| 931 kB 8.3 MB/s eta 0:00:01\r\u001b[K     |███████████████████████████████▊| 942 kB 8.3 MB/s eta 0:00:01\r\u001b[K     |████████████████████████████████| 948 kB 8.3 MB/s \n",
            "\u001b[?25hRequirement already satisfied: numpy in /usr/local/lib/python3.7/dist-packages (from glove_python_binary) (1.21.6)\n",
            "Requirement already satisfied: scipy in /usr/local/lib/python3.7/dist-packages (from glove_python_binary) (1.4.1)\n",
            "Installing collected packages: glove-python-binary\n",
            "Successfully installed glove-python-binary-0.2.0\n"
          ]
        }
      ],
      "source": [
        "!pip install glove_python_binary"
      ]
    },
    {
      "cell_type": "code",
      "source": [
        "import re\n",
        "import urllib.request\n",
        "import zipfile\n",
        "from lxml import etree\n",
        "from nltk.tokenize import word_tokenize, sent_tokenize"
      ],
      "metadata": {
        "id": "g-ntpV_U2w9E"
      },
      "execution_count": 3,
      "outputs": []
    },
    {
      "cell_type": "code",
      "source": [
        "import nltk\n",
        "nltk.download('punkt')"
      ],
      "metadata": {
        "colab": {
          "base_uri": "https://localhost:8080/"
        },
        "id": "jIFoZXIW24hx",
        "outputId": "a616a05c-26c7-481b-8119-e37c99e0b40f"
      },
      "execution_count": 7,
      "outputs": [
        {
          "output_type": "stream",
          "name": "stdout",
          "text": [
            "[nltk_data] Downloading package punkt to /root/nltk_data...\n",
            "[nltk_data]   Unzipping tokenizers/punkt.zip.\n"
          ]
        },
        {
          "output_type": "execute_result",
          "data": {
            "text/plain": [
              "True"
            ]
          },
          "metadata": {},
          "execution_count": 7
        }
      ]
    },
    {
      "cell_type": "code",
      "source": [
        "# 데이터 다운로드\n",
        "urllib.request.urlretrieve(\"https://raw.githubusercontent.com/ukairia777/tensorflow-nlp-tutorial/main/09.%20Word%20Embedding/dataset/ted_en-20160408.xml\", filename=\"ted_en-20160408.xml\")"
      ],
      "metadata": {
        "colab": {
          "base_uri": "https://localhost:8080/"
        },
        "id": "18BzZp5z2yzh",
        "outputId": "9026b8d5-4cbf-4b5d-d064-0d716fbdcfb2"
      },
      "execution_count": 4,
      "outputs": [
        {
          "output_type": "execute_result",
          "data": {
            "text/plain": [
              "('ted_en-20160408.xml', <http.client.HTTPMessage at 0x7efc987d6e90>)"
            ]
          },
          "metadata": {},
          "execution_count": 4
        }
      ]
    },
    {
      "cell_type": "code",
      "source": [
        "targetXML = open('ted_en-20160408.xml', 'r', encoding='UTF8')\n",
        "target_text = etree.parse(targetXML)\n",
        "\n",
        "# xml 파일로부터 <content>와 </content> 사이의 내용만 가져온다.\n",
        "parse_text = '\\n'.join(target_text.xpath('//content/text()'))\n",
        "\n",
        "# 정규 표현식의 sub 모듈을 통해 content 중간에 등장하는 (Audio), (Laughter) 등의 배경음 부분을 제거.\n",
        "# 해당 코드는 괄호로 구성된 내용을 제거.\n",
        "content_text = re.sub(r'\\([^)]*\\)', '', parse_text)\n",
        "\n",
        "# 입력 코퍼스에 대해서 NLTK를 이용하여 문장 토큰화를 수행.\n",
        "sent_text = sent_tokenize(content_text)\n",
        "\n",
        "# 각 문장에 대해서 구두점을 제거하고, 대문자를 소문자로 변환.\n",
        "normalized_text = []\n",
        "for string in sent_text:\n",
        "     tokens = re.sub(r\"[^a-z0-9]+\", \" \", string.lower())\n",
        "     normalized_text.append(tokens)\n",
        "\n",
        "# 각 문장에 대해서 NLTK를 이용하여 단어 토큰화를 수행.\n",
        "result = [word_tokenize(sentence) for sentence in normalized_text]"
      ],
      "metadata": {
        "id": "WJr-uYuL21sT"
      },
      "execution_count": 8,
      "outputs": []
    },
    {
      "cell_type": "code",
      "source": [
        "from glove import Corpus, Glove\n",
        "\n",
        "corpus = Corpus() \n",
        "\n",
        "# 훈련 데이터로부터 GloVe에서 사용할 동시 등장 행렬 생성\n",
        "corpus.fit(result, window=5)\n",
        "glove = Glove(no_components=100, learning_rate=0.05)\n",
        "\n",
        "# 학습에 이용할 쓰레드의 개수는 4로 설정, 에포크는 20.\n",
        "glove.fit(corpus.matrix, epochs=20, no_threads=4, verbose=True)\n",
        "glove.add_dictionary(corpus.dictionary)"
      ],
      "metadata": {
        "colab": {
          "base_uri": "https://localhost:8080/"
        },
        "id": "wIUdvUrm2g-A",
        "outputId": "e4a368fb-877e-455f-b81e-19835d5c3d57"
      },
      "execution_count": 9,
      "outputs": [
        {
          "output_type": "stream",
          "name": "stdout",
          "text": [
            "Performing 20 training epochs with 4 threads\n",
            "Epoch 0\n",
            "Epoch 1\n",
            "Epoch 2\n",
            "Epoch 3\n",
            "Epoch 4\n",
            "Epoch 5\n",
            "Epoch 6\n",
            "Epoch 7\n",
            "Epoch 8\n",
            "Epoch 9\n",
            "Epoch 10\n",
            "Epoch 11\n",
            "Epoch 12\n",
            "Epoch 13\n",
            "Epoch 14\n",
            "Epoch 15\n",
            "Epoch 16\n",
            "Epoch 17\n",
            "Epoch 18\n",
            "Epoch 19\n"
          ]
        }
      ]
    },
    {
      "cell_type": "code",
      "source": [
        "print(glove.most_similar(\"man\"))"
      ],
      "metadata": {
        "colab": {
          "base_uri": "https://localhost:8080/"
        },
        "id": "ickhLTic2jSt",
        "outputId": "35a4184c-7865-412d-f201-15494c7bdd00"
      },
      "execution_count": 10,
      "outputs": [
        {
          "output_type": "stream",
          "name": "stdout",
          "text": [
            "[('woman', 0.9560786418903613), ('guy', 0.8775509100121951), ('girl', 0.876918931684838), ('kid', 0.8364047136342387)]\n"
          ]
        }
      ]
    },
    {
      "cell_type": "code",
      "source": [
        "print(glove.most_similar(\"boy\"))"
      ],
      "metadata": {
        "colab": {
          "base_uri": "https://localhost:8080/"
        },
        "id": "kcBToqcE3Pj5",
        "outputId": "55d61665-ba56-4611-89fd-5f02c6b96916"
      },
      "execution_count": 11,
      "outputs": [
        {
          "output_type": "stream",
          "name": "stdout",
          "text": [
            "[('girl', 0.9375457608695562), ('woman', 0.853146726388624), ('man', 0.8255367850492633), ('kid', 0.8212116881928796)]\n"
          ]
        }
      ]
    },
    {
      "cell_type": "code",
      "source": [
        "print(glove.most_similar(\"clean\"))"
      ],
      "metadata": {
        "colab": {
          "base_uri": "https://localhost:8080/"
        },
        "id": "69kTm3Py3SH3",
        "outputId": "06e1138e-a544-40fa-d6ee-caac8274945d"
      },
      "execution_count": 12,
      "outputs": [
        {
          "output_type": "stream",
          "name": "stdout",
          "text": [
            "[('fresh', 0.8204097329607798), ('water', 0.8128160738293824), ('heat', 0.8106721854240201), ('wind', 0.7959817776990797)]\n"
          ]
        }
      ]
    },
    {
      "cell_type": "markdown",
      "source": [
        "# Fast Text"
      ],
      "metadata": {
        "id": "GH1DnmnU3ouG"
      }
    },
    {
      "cell_type": "markdown",
      "source": [
        "내부 단어(subword)의 학습"
      ],
      "metadata": {
        "id": "M7rGMpIv3ssl"
      }
    },
    {
      "cell_type": "markdown",
      "source": [
        "모르는 단어(Out Of Vocabulary, OOV)에 대한 대응"
      ],
      "metadata": {
        "id": "dPcGvazz4OKs"
      }
    },
    {
      "cell_type": "markdown",
      "source": [
        "단어 집합 내 빈도 수가 적었던 단어(Rare Word)에 대한 대응"
      ],
      "metadata": {
        "id": "p_YRHn1F4RPj"
      }
    },
    {
      "cell_type": "markdown",
      "source": [
        "1) Word2Vec"
      ],
      "metadata": {
        "id": "a7r9pj1p4mhL"
      }
    },
    {
      "cell_type": "code",
      "source": [
        "from gensim.models import Word2Vec\n",
        "from gensim.models import KeyedVectors\n",
        "\n",
        "model = Word2Vec(sentences=result, size=100, window=5, min_count=5, workers=4, sg=0)"
      ],
      "metadata": {
        "id": "CDeZuPnf3UU2"
      },
      "execution_count": 13,
      "outputs": []
    },
    {
      "cell_type": "code",
      "source": [
        "# w2v의 경우 모르는 단어는 임베딩 벡터가 존재하지 않기에 계산 불가\n",
        "model_result = model.wv.most_similar(\"electrofishing\")\n",
        "print(model_result)"
      ],
      "metadata": {
        "colab": {
          "base_uri": "https://localhost:8080/",
          "height": 339
        },
        "id": "a52plpwt4t2j",
        "outputId": "19bb0acf-731b-4699-eeec-7157fd73f16b"
      },
      "execution_count": 14,
      "outputs": [
        {
          "output_type": "error",
          "ename": "KeyError",
          "evalue": "ignored",
          "traceback": [
            "\u001b[0;31m---------------------------------------------------------------------------\u001b[0m",
            "\u001b[0;31mKeyError\u001b[0m                                  Traceback (most recent call last)",
            "\u001b[0;32m<ipython-input-14-fcc0423c70d1>\u001b[0m in \u001b[0;36m<module>\u001b[0;34m()\u001b[0m\n\u001b[0;32m----> 1\u001b[0;31m \u001b[0mmodel_result\u001b[0m \u001b[0;34m=\u001b[0m \u001b[0mmodel\u001b[0m\u001b[0;34m.\u001b[0m\u001b[0mwv\u001b[0m\u001b[0;34m.\u001b[0m\u001b[0mmost_similar\u001b[0m\u001b[0;34m(\u001b[0m\u001b[0;34m\"electrofishing\"\u001b[0m\u001b[0;34m)\u001b[0m\u001b[0;34m\u001b[0m\u001b[0;34m\u001b[0m\u001b[0m\n\u001b[0m\u001b[1;32m      2\u001b[0m \u001b[0mprint\u001b[0m\u001b[0;34m(\u001b[0m\u001b[0mmodel_result\u001b[0m\u001b[0;34m)\u001b[0m\u001b[0;34m\u001b[0m\u001b[0;34m\u001b[0m\u001b[0m\n",
            "\u001b[0;32m/usr/local/lib/python3.7/dist-packages/gensim/models/keyedvectors.py\u001b[0m in \u001b[0;36mmost_similar\u001b[0;34m(self, positive, negative, topn, restrict_vocab, indexer)\u001b[0m\n\u001b[1;32m    529\u001b[0m                 \u001b[0mmean\u001b[0m\u001b[0;34m.\u001b[0m\u001b[0mappend\u001b[0m\u001b[0;34m(\u001b[0m\u001b[0mweight\u001b[0m \u001b[0;34m*\u001b[0m \u001b[0mword\u001b[0m\u001b[0;34m)\u001b[0m\u001b[0;34m\u001b[0m\u001b[0;34m\u001b[0m\u001b[0m\n\u001b[1;32m    530\u001b[0m             \u001b[0;32melse\u001b[0m\u001b[0;34m:\u001b[0m\u001b[0;34m\u001b[0m\u001b[0;34m\u001b[0m\u001b[0m\n\u001b[0;32m--> 531\u001b[0;31m                 \u001b[0mmean\u001b[0m\u001b[0;34m.\u001b[0m\u001b[0mappend\u001b[0m\u001b[0;34m(\u001b[0m\u001b[0mweight\u001b[0m \u001b[0;34m*\u001b[0m \u001b[0mself\u001b[0m\u001b[0;34m.\u001b[0m\u001b[0mword_vec\u001b[0m\u001b[0;34m(\u001b[0m\u001b[0mword\u001b[0m\u001b[0;34m,\u001b[0m \u001b[0muse_norm\u001b[0m\u001b[0;34m=\u001b[0m\u001b[0;32mTrue\u001b[0m\u001b[0;34m)\u001b[0m\u001b[0;34m)\u001b[0m\u001b[0;34m\u001b[0m\u001b[0;34m\u001b[0m\u001b[0m\n\u001b[0m\u001b[1;32m    532\u001b[0m                 \u001b[0;32mif\u001b[0m \u001b[0mword\u001b[0m \u001b[0;32min\u001b[0m \u001b[0mself\u001b[0m\u001b[0;34m.\u001b[0m\u001b[0mvocab\u001b[0m\u001b[0;34m:\u001b[0m\u001b[0;34m\u001b[0m\u001b[0;34m\u001b[0m\u001b[0m\n\u001b[1;32m    533\u001b[0m                     \u001b[0mall_words\u001b[0m\u001b[0;34m.\u001b[0m\u001b[0madd\u001b[0m\u001b[0;34m(\u001b[0m\u001b[0mself\u001b[0m\u001b[0;34m.\u001b[0m\u001b[0mvocab\u001b[0m\u001b[0;34m[\u001b[0m\u001b[0mword\u001b[0m\u001b[0;34m]\u001b[0m\u001b[0;34m.\u001b[0m\u001b[0mindex\u001b[0m\u001b[0;34m)\u001b[0m\u001b[0;34m\u001b[0m\u001b[0;34m\u001b[0m\u001b[0m\n",
            "\u001b[0;32m/usr/local/lib/python3.7/dist-packages/gensim/models/keyedvectors.py\u001b[0m in \u001b[0;36mword_vec\u001b[0;34m(self, word, use_norm)\u001b[0m\n\u001b[1;32m    450\u001b[0m             \u001b[0;32mreturn\u001b[0m \u001b[0mresult\u001b[0m\u001b[0;34m\u001b[0m\u001b[0;34m\u001b[0m\u001b[0m\n\u001b[1;32m    451\u001b[0m         \u001b[0;32melse\u001b[0m\u001b[0;34m:\u001b[0m\u001b[0;34m\u001b[0m\u001b[0;34m\u001b[0m\u001b[0m\n\u001b[0;32m--> 452\u001b[0;31m             \u001b[0;32mraise\u001b[0m \u001b[0mKeyError\u001b[0m\u001b[0;34m(\u001b[0m\u001b[0;34m\"word '%s' not in vocabulary\"\u001b[0m \u001b[0;34m%\u001b[0m \u001b[0mword\u001b[0m\u001b[0;34m)\u001b[0m\u001b[0;34m\u001b[0m\u001b[0;34m\u001b[0m\u001b[0m\n\u001b[0m\u001b[1;32m    453\u001b[0m \u001b[0;34m\u001b[0m\u001b[0m\n\u001b[1;32m    454\u001b[0m     \u001b[0;32mdef\u001b[0m \u001b[0mget_vector\u001b[0m\u001b[0;34m(\u001b[0m\u001b[0mself\u001b[0m\u001b[0;34m,\u001b[0m \u001b[0mword\u001b[0m\u001b[0;34m)\u001b[0m\u001b[0;34m:\u001b[0m\u001b[0;34m\u001b[0m\u001b[0;34m\u001b[0m\u001b[0m\n",
            "\u001b[0;31mKeyError\u001b[0m: \"word 'electrofishing' not in vocabulary\""
          ]
        }
      ]
    },
    {
      "cell_type": "markdown",
      "source": [
        "2) FastText\n",
        "\n",
        "모르는 단어 가능함"
      ],
      "metadata": {
        "id": "BCpYcecK41YP"
      }
    },
    {
      "cell_type": "code",
      "source": [
        "from gensim.models import FastText\n",
        "\n",
        "model = FastText(result, size=100, window=5, min_count=5, workers=4, sg=1)"
      ],
      "metadata": {
        "id": "q3m8Ds9u4x7q"
      },
      "execution_count": 15,
      "outputs": []
    },
    {
      "cell_type": "code",
      "source": [
        "model.wv.most_similar(\"electrofishing\")"
      ],
      "metadata": {
        "colab": {
          "base_uri": "https://localhost:8080/"
        },
        "id": "_9mqeluZ5DzC",
        "outputId": "4d85cdc2-bfef-4a75-9867-7a595f1341d8"
      },
      "execution_count": 16,
      "outputs": [
        {
          "output_type": "execute_result",
          "data": {
            "text/plain": [
              "[('electrolux', 0.7973754405975342),\n",
              " ('electro', 0.7868226766586304),\n",
              " ('electrolyte', 0.785539448261261),\n",
              " ('electric', 0.7653621435165405),\n",
              " ('fishing', 0.7615876793861389),\n",
              " ('electroshock', 0.7595863938331604),\n",
              " ('electronic', 0.7531237602233887),\n",
              " ('electrons', 0.7519485950469971),\n",
              " ('gastric', 0.7496391534805298),\n",
              " ('electrochemical', 0.7489936351776123)]"
            ]
          },
          "metadata": {},
          "execution_count": 16
        }
      ]
    },
    {
      "cell_type": "code",
      "source": [
        ""
      ],
      "metadata": {
        "id": "peHxgbhp5J7F"
      },
      "execution_count": null,
      "outputs": []
    }
  ]
}